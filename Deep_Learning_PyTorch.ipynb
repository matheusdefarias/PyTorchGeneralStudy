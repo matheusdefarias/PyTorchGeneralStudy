{
  "nbformat": 4,
  "nbformat_minor": 0,
  "metadata": {
    "colab": {
      "name": "Deep Learning - PyTorch.ipynb",
      "version": "0.3.2",
      "provenance": [],
      "collapsed_sections": []
    },
    "kernelspec": {
      "name": "python3",
      "display_name": "Python 3"
    },
    "accelerator": "GPU"
  },
  "cells": [
    {
      "cell_type": "markdown",
      "metadata": {
        "id": "5sBFs7R_Y6wm",
        "colab_type": "text"
      },
      "source": [
        "##Installing PyTorch\n"
      ]
    },
    {
      "cell_type": "code",
      "metadata": {
        "id": "spgGR8tgQH7W",
        "colab_type": "code",
        "outputId": "e582f78d-83f9-4949-c043-ad142f075ae0",
        "colab": {
          "base_uri": "https://localhost:8080/",
          "height": 54
        }
      },
      "source": [
        "!pip3 install https://download.pytorch.org/whl/cpu/torch-1.0.1.post2-cp36-cp36m-linux_x86_64.whl"
      ],
      "execution_count": 0,
      "outputs": [
        {
          "output_type": "stream",
          "text": [
            "Requirement already satisfied: torch==1.0.1.post2 from https://download.pytorch.org/whl/cpu/torch-1.0.1.post2-cp36-cp36m-linux_x86_64.whl in /usr/local/lib/python3.6/dist-packages (1.0.1.post2)\n"
          ],
          "name": "stdout"
        }
      ]
    },
    {
      "cell_type": "code",
      "metadata": {
        "id": "wfDkx-ksZnie",
        "colab_type": "code",
        "outputId": "ee978485-6f63-4836-83a5-de8ea834b0f5",
        "colab": {
          "base_uri": "https://localhost:8080/",
          "height": 121
        }
      },
      "source": [
        "!pip3 install torchvision"
      ],
      "execution_count": 0,
      "outputs": [
        {
          "output_type": "stream",
          "text": [
            "Requirement already satisfied: torchvision in /usr/local/lib/python3.6/dist-packages (0.2.2.post3)\n",
            "Requirement already satisfied: six in /usr/local/lib/python3.6/dist-packages (from torchvision) (1.11.0)\n",
            "Requirement already satisfied: torch in /usr/local/lib/python3.6/dist-packages (from torchvision) (1.0.1.post2)\n",
            "Requirement already satisfied: numpy in /usr/local/lib/python3.6/dist-packages (from torchvision) (1.16.2)\n",
            "Requirement already satisfied: pillow>=4.1.1 in /usr/local/lib/python3.6/dist-packages (from torchvision) (4.3.0)\n",
            "Requirement already satisfied: olefile in /usr/local/lib/python3.6/dist-packages (from pillow>=4.1.1->torchvision) (0.46)\n"
          ],
          "name": "stdout"
        }
      ]
    },
    {
      "cell_type": "markdown",
      "metadata": {
        "id": "NDQB1E4PZqNG",
        "colab_type": "text"
      },
      "source": [
        "## Importing Pytorch"
      ]
    },
    {
      "cell_type": "code",
      "metadata": {
        "id": "yed4BrCqyHda",
        "colab_type": "code",
        "colab": {}
      },
      "source": [
        "from __future__ import print_function\n"
      ],
      "execution_count": 0,
      "outputs": []
    },
    {
      "cell_type": "code",
      "metadata": {
        "id": "TIcvBifjZ2I4",
        "colab_type": "code",
        "colab": {}
      },
      "source": [
        "import torch"
      ],
      "execution_count": 0,
      "outputs": []
    },
    {
      "cell_type": "code",
      "metadata": {
        "id": "fkd_SYdhrB-n",
        "colab_type": "code",
        "colab": {}
      },
      "source": [
        "import numpy as np"
      ],
      "execution_count": 0,
      "outputs": []
    },
    {
      "cell_type": "markdown",
      "metadata": {
        "id": "3vwhNtMBaBcM",
        "colab_type": "text"
      },
      "source": [
        "## PyTorch Tutorials"
      ]
    },
    {
      "cell_type": "markdown",
      "metadata": {
        "id": "KFm6e8CaaFqL",
        "colab_type": "text"
      },
      "source": [
        "## [Deep Learning with PyTorch: A 60 Minute Blitz > What is PyTorch?](https://pytorch.org/tutorials/beginner/blitz/tensor_tutorial.html#sphx-glr-beginner-blitz-tensor-tutorial-py)\n",
        "\n",
        "\n"
      ]
    },
    {
      "cell_type": "code",
      "metadata": {
        "id": "976CqaKEileJ",
        "colab_type": "code",
        "outputId": "0ac280bb-ee2c-4280-a789-57810f063d4b",
        "colab": {
          "base_uri": "https://localhost:8080/",
          "height": 104
        }
      },
      "source": [
        "#Tensor criado com valores(lixo) existentes nas posições de memória.\n",
        "\n",
        "x = torch.empty(5, 3)\n",
        "print(x)"
      ],
      "execution_count": 0,
      "outputs": [
        {
          "output_type": "stream",
          "text": [
            "tensor([[2.5875e-36, 0.0000e+00, 0.0000e+00],\n",
            "        [0.0000e+00, 0.0000e+00, 0.0000e+00],\n",
            "        [0.0000e+00, 0.0000e+00, 0.0000e+00],\n",
            "        [0.0000e+00, 0.0000e+00, 0.0000e+00],\n",
            "        [0.0000e+00, 0.0000e+00, 0.0000e+00]])\n"
          ],
          "name": "stdout"
        }
      ]
    },
    {
      "cell_type": "code",
      "metadata": {
        "id": "9cktanXGre9u",
        "colab_type": "code",
        "outputId": "44262550-9198-4a2f-bd7b-8fd3057bf0c2",
        "colab": {
          "base_uri": "https://localhost:8080/",
          "height": 104
        }
      },
      "source": [
        "#Tensor criado com valores aleatórios.\n",
        "\n",
        "x = torch.rand(5,3)\n",
        "print(x)"
      ],
      "execution_count": 0,
      "outputs": [
        {
          "output_type": "stream",
          "text": [
            "tensor([[0.9884, 0.6153, 0.9924],\n",
            "        [0.9559, 0.5970, 0.1662],\n",
            "        [0.3431, 0.0211, 0.2202],\n",
            "        [0.2103, 0.8673, 0.5789],\n",
            "        [0.8567, 0.5681, 0.0870]])\n"
          ],
          "name": "stdout"
        }
      ]
    },
    {
      "cell_type": "code",
      "metadata": {
        "id": "3axQ7vM4jmUw",
        "colab_type": "code",
        "outputId": "5cbda67c-e622-4e38-8f49-3dd68525512e",
        "colab": {
          "base_uri": "https://localhost:8080/",
          "height": 104
        }
      },
      "source": [
        "#Tensor criado com valores aleatórios inteiros.\n",
        "\n",
        "x = torch.randint(0, 10, (5,3), dtype=torch.long)\n",
        "print(x)"
      ],
      "execution_count": 0,
      "outputs": [
        {
          "output_type": "stream",
          "text": [
            "tensor([[4, 5, 2],\n",
            "        [0, 4, 9],\n",
            "        [1, 7, 6],\n",
            "        [2, 2, 8],\n",
            "        [7, 8, 8]])\n"
          ],
          "name": "stdout"
        }
      ]
    },
    {
      "cell_type": "code",
      "metadata": {
        "id": "kE5f0R6NtAtQ",
        "colab_type": "code",
        "outputId": "31b9c7fd-e6d8-4e25-ff89-5ecb99716b0c",
        "colab": {
          "base_uri": "https://localhost:8080/",
          "height": 104
        }
      },
      "source": [
        "#Tensor criado com zeros.\n",
        "\n",
        "x = torch.zeros(5, 3, dtype=torch.long)\n",
        "print(x)"
      ],
      "execution_count": 0,
      "outputs": [
        {
          "output_type": "stream",
          "text": [
            "tensor([[0, 0, 0],\n",
            "        [0, 0, 0],\n",
            "        [0, 0, 0],\n",
            "        [0, 0, 0],\n",
            "        [0, 0, 0]])\n"
          ],
          "name": "stdout"
        }
      ]
    },
    {
      "cell_type": "code",
      "metadata": {
        "id": "pOLQtuX3lk11",
        "colab_type": "code",
        "outputId": "0fe020b3-53f9-432d-aefa-da3f878d9cdd",
        "colab": {
          "base_uri": "https://localhost:8080/",
          "height": 243
        }
      },
      "source": [
        "#Tensor criado com zeros.\n",
        "#Este tensor possui 5 linhas, 3 colunas, e profundidade igual a 2.\n",
        "#No caso do PyTorch, a profundidade do tensor é indicada na primeira posição da\n",
        "#tupla, no caso o 2. A segunda posição é referente ao número de linhas(5) e a\n",
        "#terceira posição é referente ao número de colunas(3).\n",
        "\n",
        "x = torch.zeros(2, 5, 3, dtype=torch.long)\n",
        "print(x)\n",
        "\n",
        "print(\"     \")\n",
        "\n",
        "#A função size() retorna as dimensões do tensor como a profundidade, número de\n",
        "#linhas e número de colunas.\n",
        "\n",
        "size = x.size()\n",
        "print(size)\n"
      ],
      "execution_count": 0,
      "outputs": [
        {
          "output_type": "stream",
          "text": [
            "tensor([[[0, 0, 0],\n",
            "         [0, 0, 0],\n",
            "         [0, 0, 0],\n",
            "         [0, 0, 0],\n",
            "         [0, 0, 0]],\n",
            "\n",
            "        [[0, 0, 0],\n",
            "         [0, 0, 0],\n",
            "         [0, 0, 0],\n",
            "         [0, 0, 0],\n",
            "         [0, 0, 0]]])\n",
            "     \n",
            "torch.Size([2, 5, 3])\n"
          ],
          "name": "stdout"
        }
      ]
    },
    {
      "cell_type": "code",
      "metadata": {
        "id": "7KRDx4YOl0Gu",
        "colab_type": "code",
        "outputId": "b6983e4f-957c-49be-e1f5-988c6a0b51eb",
        "colab": {
          "base_uri": "https://localhost:8080/",
          "height": 34
        }
      },
      "source": [
        "#Exemplo para criação de um tensor com valores customizados.\n",
        "\n",
        "x = torch.tensor([5.5, 3])\n",
        "print(x)"
      ],
      "execution_count": 0,
      "outputs": [
        {
          "output_type": "stream",
          "text": [
            "tensor([5.5000, 3.0000])\n"
          ],
          "name": "stdout"
        }
      ]
    },
    {
      "cell_type": "code",
      "metadata": {
        "id": "aCTXWOLFrrIf",
        "colab_type": "code",
        "outputId": "1f2f8eeb-da8a-47af-ec5a-53ac0b930c91",
        "colab": {
          "base_uri": "https://localhost:8080/",
          "height": 69
        }
      },
      "source": [
        "#Exemplo para criação de um tensor com valores customizados.\n",
        "\n",
        "x = torch.tensor([[0,1,0],\n",
        "                  [1,0,1],\n",
        "                  [0,1,0]])\n",
        "print(x)"
      ],
      "execution_count": 0,
      "outputs": [
        {
          "output_type": "stream",
          "text": [
            "tensor([[0, 1, 0],\n",
            "        [1, 0, 1],\n",
            "        [0, 1, 0]])\n"
          ],
          "name": "stdout"
        }
      ]
    },
    {
      "cell_type": "code",
      "metadata": {
        "id": "TdNmIdNXj2QK",
        "colab_type": "code",
        "outputId": "8b65bccd-15a5-4b6b-869e-17802025bc33",
        "colab": {
          "base_uri": "https://localhost:8080/",
          "height": 469
        }
      },
      "source": [
        "#As operações de adição podem ser feitas de diversas formas.\n",
        "#A seguir algumas dessas formas serão ilustradas\n",
        "\n",
        "x = torch.tensor([[1,2,3],\n",
        "                  [2,2,2],\n",
        "                  [4,5,6]], dtype=torch.long)\n",
        "\n",
        "y = torch.tensor([[1,1,1],\n",
        "                  [0,0,0],\n",
        "                  [1,1,1]], dtype=torch.long)\n",
        "\n",
        "z = torch.tensor([[1,0,0],\n",
        "                  [0,1,0],\n",
        "                  [0,0,1]], dtype=torch.long)\n",
        "\n",
        "w = torch.tensor([[12,23,32],\n",
        "                  [22,21,25],\n",
        "                  [42,58,66]], dtype=torch.long)\n",
        "\n",
        "#PRIMEIRA FORMA\n",
        "\n",
        "result = x + y\n",
        "print(result)\n",
        "print(\"\\n\")\n",
        "\n",
        "#SEGUNDA FORMA\n",
        "\n",
        "result = torch.add(x,y)\n",
        "print(result)\n",
        "print(\"\\n\")\n",
        "\n",
        "#TERCEIRA FORMA\n",
        "\n",
        "#Nesta maneira de adição, a variável(result) que irá armazenar o tensor \n",
        "#resultante da adição pode ser passada como parâmetro na função torch.add()\n",
        "#após ter sido criada.\n",
        "\n",
        "result = torch.empty(3,3, dtype=torch.long)\n",
        "torch.add(x,y, out=result)\n",
        "print(result)\n",
        "print(\"\\n\")\n",
        "\n",
        "#QUARTA FORMA\n",
        "\n",
        "#Soma \"x\" à \"y\".\n",
        "#Adição in-place, \"x\" é adicionado à \"y\" e o resultado é armazenado em \"y\".\n",
        "\n",
        "y.add_(x)\n",
        "print(y)\n",
        "print(\"\\n\")\n",
        "\n",
        "#EXTRA!!\n",
        "\n",
        "#Cópia in-place, \"z\" é copiado para \"y\".\n",
        "x.copy_(z)\n",
        "print(x)\n",
        "print(\"\\n\")\n",
        "\n",
        "#Segue as mesmas regras do NumPy-Like Indexing.\n",
        "#https://machinelearningmastery.com/index-slice-reshape-numpy-arrays-machine-learning-python/\n",
        "print(w[:,1])\n"
      ],
      "execution_count": 0,
      "outputs": [
        {
          "output_type": "stream",
          "text": [
            "tensor([[2, 3, 4],\n",
            "        [2, 2, 2],\n",
            "        [5, 6, 7]])\n",
            "\n",
            "\n",
            "tensor([[2, 3, 4],\n",
            "        [2, 2, 2],\n",
            "        [5, 6, 7]])\n",
            "\n",
            "\n",
            "tensor([[2, 3, 4],\n",
            "        [2, 2, 2],\n",
            "        [5, 6, 7]])\n",
            "\n",
            "\n",
            "tensor([[2, 3, 4],\n",
            "        [2, 2, 2],\n",
            "        [5, 6, 7]])\n",
            "\n",
            "\n",
            "tensor([[1, 0, 0],\n",
            "        [0, 1, 0],\n",
            "        [0, 0, 1]])\n",
            "\n",
            "\n",
            "tensor([23, 21, 58])\n"
          ],
          "name": "stdout"
        }
      ]
    },
    {
      "cell_type": "code",
      "metadata": {
        "id": "1whj7jUF5gVW",
        "colab_type": "code",
        "outputId": "9b2d2211-aaf6-4ebb-ec46-c1fe176dc300",
        "colab": {
          "base_uri": "https://localhost:8080/",
          "height": 208
        }
      },
      "source": [
        "#Resizing/Reshape tensores\n",
        "\n",
        "x_resized = torch.randn(4, 4)\n",
        "print(x_resized)\n",
        "print(\"\\n\")\n",
        "\n",
        "y_resized = x_resized.view(16)\n",
        "print(y_resized)\n",
        "print(\"\\n\")\n",
        "\n",
        "print(x_resized.size(), y_resized.size())"
      ],
      "execution_count": 0,
      "outputs": [
        {
          "output_type": "stream",
          "text": [
            "tensor([[-0.8850,  1.0184, -0.5328,  0.4798],\n",
            "        [-0.9127,  0.1330,  0.6340,  0.0500],\n",
            "        [-0.7817,  0.6811,  0.4191, -0.9660],\n",
            "        [-0.6624,  3.0801, -1.3735, -1.0975]])\n",
            "\n",
            "\n",
            "tensor([-0.8850,  1.0184, -0.5328,  0.4798, -0.9127,  0.1330,  0.6340,  0.0500,\n",
            "        -0.7817,  0.6811,  0.4191, -0.9660, -0.6624,  3.0801, -1.3735, -1.0975])\n",
            "\n",
            "\n",
            "torch.Size([4, 4]) torch.Size([16])\n"
          ],
          "name": "stdout"
        }
      ]
    },
    {
      "cell_type": "code",
      "metadata": {
        "id": "zHlkgwfL7ps9",
        "colab_type": "code",
        "outputId": "3d7d6e24-5f02-40ee-c204-4b91d1907af3",
        "colab": {
          "base_uri": "https://localhost:8080/",
          "height": 104
        }
      },
      "source": [
        "#Se houver apenas um valor no tensor pode-se usar a função item()\n",
        "#para pegar o valor como um escalar em python. Caso haja mais de um\n",
        "#um valor, acessa-se o valor usando \"array[índice]\" seguido de \"item()\".\n",
        "\n",
        "tensor1 = torch.tensor([31])\n",
        "print(tensor1)\n",
        "tensor2 = torch.tensor([43,45,67])\n",
        "print(tensor2)\n",
        "\n",
        "valor1 = tensor1.item()\n",
        "\n",
        "valor2 = tensor2[1].item()\n",
        "\n",
        "valor3 = tensor2.size(0)\n",
        "\n",
        "print(valor1)\n",
        "print(valor2)\n",
        "print(valor3)"
      ],
      "execution_count": 0,
      "outputs": [
        {
          "output_type": "stream",
          "text": [
            "tensor([31])\n",
            "tensor([43, 45, 67])\n",
            "31\n",
            "45\n",
            "3\n"
          ],
          "name": "stdout"
        }
      ]
    },
    {
      "cell_type": "code",
      "metadata": {
        "id": "1MOFC-AhpvK5",
        "colab_type": "code",
        "outputId": "503236fe-c9e9-4733-ec85-06f7f3320a74",
        "colab": {
          "base_uri": "https://localhost:8080/",
          "height": 225
        }
      },
      "source": [
        "#Convertendo um tensor Torch para um array NumPy.\n",
        "\n",
        "x = torch.ones(5)\n",
        "print(x)\n",
        "\n",
        "w = torch.randn(4, 4)\n",
        "z = w.numpy()\n",
        "w.add_(1)\n",
        "print(w)\n",
        "print(z)\n",
        "\n",
        "y = x.numpy()\n",
        "print(y)\n",
        "\n",
        "x.add_(1)\n",
        "print(x)\n",
        "print(y)"
      ],
      "execution_count": 0,
      "outputs": [
        {
          "output_type": "stream",
          "text": [
            "tensor([1., 1., 1., 1., 1.])\n",
            "tensor([[ 2.3022,  0.2261,  1.2127, -0.3578],\n",
            "        [ 2.7493,  1.9578,  1.7834,  1.3701],\n",
            "        [ 0.4399,  0.8564, -0.1218,  0.4142],\n",
            "        [-0.2102,  0.3166,  0.9009, -0.2138]])\n",
            "[[ 2.3022032   0.22608805  1.2126986  -0.35775316]\n",
            " [ 2.7492623   1.957829    1.783438    1.3700507 ]\n",
            " [ 0.43985015  0.8563778  -0.12180352  0.41424745]\n",
            " [-0.21022284  0.31657964  0.90092486 -0.21382606]]\n",
            "[1. 1. 1. 1. 1.]\n",
            "tensor([2., 2., 2., 2., 2.])\n",
            "[2. 2. 2. 2. 2.]\n"
          ],
          "name": "stdout"
        }
      ]
    },
    {
      "cell_type": "code",
      "metadata": {
        "id": "LQNfUWO9qznP",
        "colab_type": "code",
        "outputId": "1be54156-4bca-4d1d-da6f-f63cdef7599c",
        "colab": {
          "base_uri": "https://localhost:8080/",
          "height": 86
        }
      },
      "source": [
        "#Convertendo um array NumPy para um tensor Torch.\n",
        "\n",
        "a = np.ones(5)\n",
        "b = torch.from_numpy(a)\n",
        "print(a)\n",
        "print(b)\n",
        "\n",
        "np.add(a, 1, out=a)\n",
        "print(a)\n",
        "print(b)\n"
      ],
      "execution_count": 0,
      "outputs": [
        {
          "output_type": "stream",
          "text": [
            "[1. 1. 1. 1. 1.]\n",
            "tensor([1., 1., 1., 1., 1.], dtype=torch.float64)\n",
            "[2. 2. 2. 2. 2.]\n",
            "tensor([2., 2., 2., 2., 2.], dtype=torch.float64)\n"
          ],
          "name": "stdout"
        }
      ]
    },
    {
      "cell_type": "code",
      "metadata": {
        "id": "XWH5_jFVyIWL",
        "colab_type": "code",
        "outputId": "5b6ef999-37e4-4ecf-807f-079e0c3f219c",
        "colab": {
          "base_uri": "https://localhost:8080/",
          "height": 34
        }
      },
      "source": [
        "#Verifica se há GPU disponível\n",
        "\n",
        "print(torch.cuda.is_available())"
      ],
      "execution_count": 0,
      "outputs": [
        {
          "output_type": "stream",
          "text": [
            "True\n"
          ],
          "name": "stdout"
        }
      ]
    },
    {
      "cell_type": "code",
      "metadata": {
        "id": "0rzPDTCBzceT",
        "colab_type": "code",
        "outputId": "448314bf-721e-4ffa-980f-7ab8e2cccfd4",
        "colab": {
          "base_uri": "https://localhost:8080/",
          "height": 121
        }
      },
      "source": [
        "#Verifica se a GPU está disponível e em caso afirmativo\n",
        "#roda o bloco de código dentro da condição if.\n",
        "\n",
        "x = torch.tensor([[1,2,3],\n",
        "                  [2,2,2],\n",
        "                  [4,5,6]], dtype=torch.long)\n",
        "\n",
        "m = torch.tensor([[1,1,1],\n",
        "                  [0,0,0],\n",
        "                  [1,1,1]], dtype=torch.long)\n",
        "\n",
        "if torch.cuda.is_available():\n",
        "    device = torch.device(\"cuda\")          \n",
        "    y = torch.ones_like(x, device=device)\n",
        "    x = x.to(device)                       \n",
        "    z = x + y\n",
        "    \n",
        "    print(z)\n",
        "    \n",
        "    #Coloca o tenso \"z\" que estava na GPU novamente na CPU\n",
        "    #e muda o tipo dos elementos para double.\n",
        "    \n",
        "    print(z.to(\"cpu\", torch.double)) "
      ],
      "execution_count": 0,
      "outputs": [
        {
          "output_type": "stream",
          "text": [
            "tensor([[2, 3, 4],\n",
            "        [3, 3, 3],\n",
            "        [5, 6, 7]], device='cuda:0')\n",
            "tensor([[2., 3., 4.],\n",
            "        [3., 3., 3.],\n",
            "        [5., 6., 7.]], dtype=torch.float64)\n"
          ],
          "name": "stdout"
        }
      ]
    },
    {
      "cell_type": "code",
      "metadata": {
        "id": "yxYsriBqhmwi",
        "colab_type": "code",
        "outputId": "d105ed59-f75b-4892-b10b-9342b851aca0",
        "colab": {
          "base_uri": "https://localhost:8080/",
          "height": 69
        }
      },
      "source": [
        "#Testando divisão por zero, a qual  PyTorch não trata.\n",
        "#Solução: somar 0.01 à matriz que irá dividir, no caso \"m\".\n",
        "\n",
        "x = torch.tensor([[1,2,3],\n",
        "                  [2,2,2],\n",
        "                  [4,5,6]], dtype=torch.float)\n",
        "\n",
        "m = torch.tensor([[0,0,0],\n",
        "                  [0,0,0],\n",
        "                  [0,0,0]], dtype=torch.float)\n",
        "\n",
        "\n",
        "m.add_(0.01)\n",
        "\n",
        "y = x/m\n",
        "\n",
        "print(y)"
      ],
      "execution_count": 0,
      "outputs": [
        {
          "output_type": "stream",
          "text": [
            "tensor([[100., 200., 300.],\n",
            "        [200., 200., 200.],\n",
            "        [400., 500., 600.]])\n"
          ],
          "name": "stdout"
        }
      ]
    }
  ]
}